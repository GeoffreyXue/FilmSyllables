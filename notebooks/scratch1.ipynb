{
 "cells": [
  {
   "cell_type": "code",
   "execution_count": 48,
   "metadata": {},
   "outputs": [],
   "source": [
    "from selenium import webdriver\n",
    "from selenium.webdriver.chrome.service import Service\n",
    "from webdriver_manager.chrome import ChromeDriverManager\n",
    "from selenium.webdriver.common.by import By\n",
    "from time import sleep\n",
    "import re"
   ]
  },
  {
   "cell_type": "code",
   "execution_count": null,
   "metadata": {},
   "outputs": [],
   "source": [
    "driver = webdriver.Chrome(service=Service(ChromeDriverManager().install()))\n",
    "driver.get(r\"file:///C:\\Users\\Geoffrey\\Documents\\Projects\\FilmMelody\\test.html\")"
   ]
  },
  {
   "cell_type": "code",
   "execution_count": 13,
   "metadata": {},
   "outputs": [
    {
     "data": {
      "text/plain": [
       "\"\\n                                THE SOCIAL NETWORK\\n\\n\\n\\n                                    Written by\\n\\n                                   Aaron Sorkin\\n\\n\\n\\n\\n\\n                                                          May 28, 2009\\n                         \\n\\n                         \\n\\n          FROM THE BLACK WE HEAR--\\n\\n                         MARK (V.O.)\\n          Did you know there are more people with\\n          genius IQ's living in China than there\\n          are people of any kind living in the\\n          United States?\\n\\n                         ERICA (V.O. )\\n          That can't be true.\\n\\n                         MARK (V.O.)\\n          it is true.\\n\\n                         ERICA (V.O.)\\n          What would account for that?\\n\\n                         MARK (V.0.)\\n          Well first of all, a lot of people live\\n          in China. But here's my question:\\n\\n                         FADE IN\\n\\n          INT. CAMPUS BAR - NIGHT\\n\\n          MARK ZUCKERBERG is a sweet looking 19 year old whose la\""
      ]
     },
     "execution_count": 13,
     "metadata": {},
     "output_type": "execute_result"
    }
   ],
   "source": [
    "script_html = driver.find_element(By.TAG_NAME, 'pre')\n",
    "script_html.get_attribute('innerText')[0:1000]"
   ]
  },
  {
   "cell_type": "code",
   "execution_count": 25,
   "metadata": {},
   "outputs": [
    {
     "data": {
      "text/plain": [
       "'THE'"
      ]
     },
     "execution_count": 25,
     "metadata": {},
     "output_type": "execute_result"
    }
   ],
   "source": [
    "i = 0\n",
    "# for title_html in script_html.find_elements(By.TAG_NAME, 'b'):\n",
    "#     title = title_html.get_attribute('innerHTML')\n",
    "#     title = title.split(' ')[0]\n",
    "\n",
    "title_html = script_html.find_elements(By.TAG_NAME, 'b')[0]\n",
    "title = title_html.get_attribute('innerHTML')\n",
    "title.strip().split(' ')[0]\n",
    "    "
   ]
  },
  {
   "cell_type": "code",
   "execution_count": 28,
   "metadata": {},
   "outputs": [
    {
     "ename": "AttributeError",
     "evalue": "'dict' object has no attribute 'sort'",
     "output_type": "error",
     "traceback": [
      "\u001b[1;31m---------------------------------------------------------------------------\u001b[0m",
      "\u001b[1;31mAttributeError\u001b[0m                            Traceback (most recent call last)",
      "\u001b[1;32mc:\\Users\\Geoffrey\\Documents\\Projects\\FilmMelody\\test.ipynb Cell 5'\u001b[0m in \u001b[0;36m<cell line: 8>\u001b[1;34m()\u001b[0m\n\u001b[0;32m      <a href='vscode-notebook-cell:/c%3A/Users/Geoffrey/Documents/Projects/FilmMelody/test.ipynb#ch0000004?line=4'>5</a>\u001b[0m     title \u001b[39m=\u001b[39m title\u001b[39m.\u001b[39mstrip()\u001b[39m.\u001b[39msplit(\u001b[39m'\u001b[39m\u001b[39m \u001b[39m\u001b[39m'\u001b[39m)[\u001b[39m0\u001b[39m]\n\u001b[0;32m      <a href='vscode-notebook-cell:/c%3A/Users/Geoffrey/Documents/Projects/FilmMelody/test.ipynb#ch0000004?line=5'>6</a>\u001b[0m     \u001b[39mdict\u001b[39m[title] \u001b[39m=\u001b[39m \u001b[39mdict\u001b[39m\u001b[39m.\u001b[39mget(title, \u001b[39m0\u001b[39m) \u001b[39m+\u001b[39m \u001b[39m1\u001b[39m\n\u001b[1;32m----> <a href='vscode-notebook-cell:/c%3A/Users/Geoffrey/Documents/Projects/FilmMelody/test.ipynb#ch0000004?line=7'>8</a>\u001b[0m \u001b[39mdict\u001b[39;49m\u001b[39m.\u001b[39;49msort()\n\u001b[0;32m      <a href='vscode-notebook-cell:/c%3A/Users/Geoffrey/Documents/Projects/FilmMelody/test.ipynb#ch0000004?line=8'>9</a>\u001b[0m \u001b[39mdict\u001b[39m\n",
      "\u001b[1;31mAttributeError\u001b[0m: 'dict' object has no attribute 'sort'"
     ]
    }
   ],
   "source": [
    "dict = {}\n",
    "\n",
    "for title_html in script_html.find_elements(By.TAG_NAME, 'b'):\n",
    "    title = title_html.get_attribute('innerHTML')\n",
    "    title = title.strip().split(' ')[0]\n",
    "    dict[title] = dict.get(title, 0) + 1\n",
    "    "
   ]
  },
  {
   "cell_type": "code",
   "execution_count": 32,
   "metadata": {},
   "outputs": [
    {
     "data": {
      "text/plain": [
       "[('MARK', 398),\n",
       " ('EDUARDO', 316),\n",
       " ('SEAN', 150),\n",
       " ('CUT', 141),\n",
       " ('INT.', 127),\n",
       " ('CAMERON', 92),\n",
       " ('(BEAT)', 81),\n",
       " ('DIVYA', 70),\n",
       " ('ERICA', 65),\n",
       " ('TYLER', 64),\n",
       " ('(PAUSE)', 50),\n",
       " ('GRETCHEN', 49),\n",
       " ('GAGE', 45),\n",
       " ('(INTO', 36),\n",
       " ('AMY', 35),\n",
       " ('JENNY', 32),\n",
       " ('SUMMERS', 30),\n",
       " ('MARYLIN', 28),\n",
       " ('SY', 25),\n",
       " ('EXT.', 23),\n",
       " ('(TO', 23),\n",
       " ('DUSTIN', 22),\n",
       " ('GIRL', 15),\n",
       " ('(MORE)', 13),\n",
       " ('(READING)', 12),\n",
       " ('TNT.', 12),\n",
       " ('LAWYER', 12),\n",
       " ('TITLE:', 8),\n",
       " ('COX', 8),\n",
       " ('MARX', 8),\n",
       " ('ASHLEIGH', 8),\n",
       " ('POLICEMAN', 8),\n",
       " ('ALL', 7),\n",
       " ('(WHISPERING)', 7),\n",
       " ('MARY', 6),\n",
       " ('ADMINISTRATOR', 6),\n",
       " ('(CALLING', 6),\n",
       " ('SENIOR', 6),\n",
       " ('MR.', 6),\n",
       " ('THE', 5),\n",
       " ('AND', 5),\n",
       " ('CHRIS', 5),\n",
       " ('(CALLING)', 5),\n",
       " ('SPEAKER', 5),\n",
       " ('LOOK--', 5),\n",
       " ('PRINCE', 5),\n",
       " ('PAUL', 4),\n",
       " ('FEMALE', 4),\n",
       " ('MALE', 4),\n",
       " ('GUY', 4),\n",
       " ('STUDENTS', 4),\n",
       " ('PROFESSOR', 4),\n",
       " ('MARK--', 4),\n",
       " ('BOB', 4),\n",
       " ('SECRETARY', 4),\n",
       " ('KENWRIGHT', 4),\n",
       " ('MARY,', 3),\n",
       " ('1', 3),\n",
       " ('(LISTENS)', 3),\n",
       " ('INTERCUT', 3),\n",
       " ('MART', 3),\n",
       " ('(SHOUTING)', 3),\n",
       " ('E', 3),\n",
       " ('(QUIETLY)', 3),\n",
       " ('-', 3),\n",
       " ('STUART', 3),\n",
       " ('S.', 2),\n",
       " ('(SMILES)', 2),\n",
       " ('WHERE', 2),\n",
       " ('BUT', 2),\n",
       " ('WE', 2),\n",
       " ('COMMON', 2),\n",
       " (\"DADDY'S\", 2),\n",
       " (\"MAMA'S\", 2),\n",
       " ('CAN', 2),\n",
       " ('CUT.', 2),\n",
       " ('YOU', 2),\n",
       " ('ANOTHER', 2),\n",
       " ('GRAD', 2),\n",
       " ('BOAT)', 2),\n",
       " ('MARE', 2),\n",
       " ('EDU.ARDO', 2),\n",
       " ('(RE:', 2),\n",
       " ('INT,', 2),\n",
       " ('SOPHOMORE', 2),\n",
       " ('(CALMLY)', 2),\n",
       " ('.', 2),\n",
       " ('ALICE', 2),\n",
       " ('ANNE', 2),\n",
       " ('(CALMING)', 2),\n",
       " ('EXECUTIVE', 2),\n",
       " ('WAITRESS', 2),\n",
       " ('.EDUARDO', 2),\n",
       " ('CANDIDATE', 2),\n",
       " ('INTERN', 2),\n",
       " ('ERIC', 2),\n",
       " ('SHARON', 2),\n",
       " ('BEAUTIFUL', 2),\n",
       " ('WOMAN', 2),\n",
       " ('THIEL', 2),\n",
       " ('1.', 2),\n",
       " ('150.', 2),\n",
       " ('FROM', 1),\n",
       " ('FADE', 1),\n",
       " ('2.', 1),\n",
       " ('BRICA', 1),\n",
       " ('PC.', 1),\n",
       " ('3.', 1),\n",
       " ('ERICA.', 1),\n",
       " (\"T'RICA\", 1),\n",
       " ('4.', 1),\n",
       " ('6.', 1),\n",
       " ('7.', 1),\n",
       " ('MAFT', 1),\n",
       " ('ERICA---', 1),\n",
       " ('(CLOSE)', 1),\n",
       " ('9.', 1),\n",
       " ('CRASHES', 1),\n",
       " ('HARVARD', 1),\n",
       " ('LIVING', 1),\n",
       " ('WATER', 1),\n",
       " ('WHAT', 1),\n",
       " ('TEARS', 1),\n",
       " ('CRYING', 1),\n",
       " ('WITHOUT', 1),\n",
       " (\"'CAUSE\", 1),\n",
       " ('SMILES', 1),\n",
       " ('8:13', 1),\n",
       " ('11.', 1),\n",
       " ('9:48', 1),\n",
       " ('BILLY.', 1),\n",
       " ('12,', 1),\n",
       " ('10:17', 1),\n",
       " ('13.', 1),\n",
       " ('1:03', 1),\n",
       " (\"T.T'S\", 1),\n",
       " ('IT', 1),\n",
       " ('GROUND', 1),\n",
       " (\"(WHAT'S\", 1),\n",
       " (\"TRYIN'\", 1),\n",
       " ('WHEN', 1),\n",
       " ('CONE', 1),\n",
       " ('NOW', 1),\n",
       " ('ONE', 1),\n",
       " ('14,', 1),\n",
       " ('RESULTS', 1),\n",
       " (\"MARK'S\", 1),\n",
       " ('SMILE', 1),\n",
       " ('ABOUT', 1),\n",
       " ('2:08', 1),\n",
       " ('15,', 1),\n",
       " ('(HEAT)', 1),\n",
       " ('16.', 1),\n",
       " ('CLUB', 1),\n",
       " ('EA', 1),\n",
       " ('BB', 1),\n",
       " ('17.', 1),\n",
       " ('J_-NT.', 1),\n",
       " ('2:55', 1),\n",
       " ('FACEMASH', 1),\n",
       " ('18,', 1),\n",
       " ('PLAYER', 1),\n",
       " ('STUDENT', 1),\n",
       " ('THREE', 1),\n",
       " ('CUT-TO:', 1),\n",
       " ('J.', 1),\n",
       " ('.ALL', 1),\n",
       " ('20.', 1),\n",
       " ('ROOMMATES', 1),\n",
       " ('21', 1),\n",
       " (\"COX'S\", 1),\n",
       " ('22.', 1),\n",
       " ('(BAD)', 1),\n",
       " ('(GOOD)', 1),\n",
       " ('23.', 1),\n",
       " ('DEPOSITION', 1),\n",
       " ('MARKÂ€ï¿½', 1),\n",
       " ('24,', 1),\n",
       " ('(PAUSE--EVEN)', 1),\n",
       " ('CREW', 1),\n",
       " ('25,', 1),\n",
       " ('A', 1),\n",
       " ('3-1', 1),\n",
       " ('26,', 1),\n",
       " ('27.', 1),\n",
       " ('28,', 1),\n",
       " ('29.', 1),\n",
       " ('30,', 1),\n",
       " ('31.', 1),\n",
       " ('32,', 1),\n",
       " ('33.', 1),\n",
       " ('-----', 1),\n",
       " ('YOUR--', 1),\n",
       " ('FRIENDSTER---', 1),\n",
       " ('35', 1),\n",
       " ('CUTTO:', 1),\n",
       " ('TNT_', 1),\n",
       " ('36', 1),\n",
       " ('37.', 1),\n",
       " ('38.', 1),\n",
       " ('(PAUSE', 1),\n",
       " ('39.', 1),\n",
       " ('40,', 1),\n",
       " ('41.', 1),\n",
       " ('BY', 1),\n",
       " ('GRETCHEN--', 1),\n",
       " ('42,', 1),\n",
       " ('BEFORE', 1),\n",
       " ('43.', 1),\n",
       " ('44.', 1),\n",
       " ('45.', 1),\n",
       " ('46,', 1),\n",
       " ('47', 1),\n",
       " ('48.', 1),\n",
       " ('2003--', 1),\n",
       " ('49.', 1),\n",
       " ('(CALMING', 1),\n",
       " ('SY.', 1),\n",
       " ('50.', 1),\n",
       " ('51.', 1),\n",
       " ('52,', 1),\n",
       " ('(SIMPLY)', 1),\n",
       " ('53.', 1),\n",
       " ('54,', 1),\n",
       " ('JUST', 1),\n",
       " ('55.', 1),\n",
       " ('(DONE)', 1),\n",
       " ('56,', 1),\n",
       " ('(DRYL', 1),\n",
       " ('57.', 1),\n",
       " ('(LOUDER)', 1),\n",
       " ('59.', 1),\n",
       " ('CRIMSON)', 1),\n",
       " ('60.', 1),\n",
       " ('GOOD', 1),\n",
       " ('(REACTING)', 1),\n",
       " ('61.', 1),\n",
       " ('HEY--', 1),\n",
       " ('(POINTING)', 1),\n",
       " ('(THEN)', 1),\n",
       " ('62', 1),\n",
       " ('LOOK-', 1),\n",
       " ('63.', 1),\n",
       " (\"'SY\", 1),\n",
       " ('64,', 1),\n",
       " ('65.', 1),\n",
       " ('EDUAPÏ¿ï¿½DO', 1),\n",
       " ('66,', 1),\n",
       " ('67.', 1),\n",
       " ('(STILL', 1),\n",
       " ('COMMODORE', 1),\n",
       " ('68.', 1),\n",
       " ('VIKRAM', 1),\n",
       " ('69.', 1),\n",
       " ('STUART/VIKRAM', 1),\n",
       " ('70,', 1),\n",
       " ('NOT', 1),\n",
       " ('COMPANY--THE', 1),\n",
       " ('71.', 1),\n",
       " ('72.', 1),\n",
       " ('73.', 1),\n",
       " ('DIVYA/TYLER', 1),\n",
       " ('(QUIETING)', 1),\n",
       " ('74-', 1),\n",
       " ('75.', 1),\n",
       " ('76.', 1),\n",
       " ('77.', 1),\n",
       " ('78.', 1),\n",
       " ('REGGIE', 1),\n",
       " (\"'79\", 1),\n",
       " ('MARK.', 1),\n",
       " ('(IGNORING', 1),\n",
       " ('80.', 1),\n",
       " ('EDUA', 1),\n",
       " ('EDUJARDO', 1),\n",
       " ('MARYIJIN', 1),\n",
       " ('82', 1),\n",
       " ('83.â€¢', 1),\n",
       " ('(PAUSE--REALIZING)', 1),\n",
       " ('84,', 1),\n",
       " ('SAYS---', 1),\n",
       " ('(EUREKA)', 1),\n",
       " ('85.', 1),\n",
       " ('86.', 1),\n",
       " ('Â€ï¿½', 1),\n",
       " ('ANY', 1),\n",
       " ('.AMY', 1),\n",
       " ('PAY', 1),\n",
       " ('87.', 1),\n",
       " ('88,', 1),\n",
       " ('YEAH:', 1),\n",
       " ('AMY.', 1),\n",
       " ('89.', 1),\n",
       " ('90,', 1),\n",
       " (\"(THAT'S\", 1),\n",
       " ('91.', 1),\n",
       " ('-SUMMERS', 1),\n",
       " ('92.', 1),\n",
       " ('OR', 1),\n",
       " ('BULLSHIT)', 1),\n",
       " ('93.', 1),\n",
       " ('94,', 1),\n",
       " ('TY--', 1),\n",
       " ('95.', 1),\n",
       " ('96,', 1),\n",
       " ('TYLER-', 1),\n",
       " ('(STOPPING', 1),\n",
       " ('97.', 1),\n",
       " ('CTJT', 1),\n",
       " ('ALLOW', 1),\n",
       " ('98.', 1),\n",
       " ('INT..', 1),\n",
       " ('99.', 1),\n",
       " ('100.', 1),\n",
       " ('(SHAKING', 1),\n",
       " ('(ALMOST', 1),\n",
       " ('101.', 1),\n",
       " ('].02.', 1),\n",
       " ('HAVE', 1),\n",
       " ('103.', 1),\n",
       " ('MARK)', 1),\n",
       " ('EDAURDO', 1),\n",
       " ('104,', 1),\n",
       " ('EDUO', 1),\n",
       " ('(KNOCKED', 1),\n",
       " ('105.', 1),\n",
       " ('106,', 1),\n",
       " ('JESUS', 1),\n",
       " ('MART:', 1),\n",
       " ('107.', 1),\n",
       " ('ARTICLE--', 1),\n",
       " ('108.', 1),\n",
       " (\"INT.MARK'S\", 1),\n",
       " ('209.', 1),\n",
       " ('110.', 1),\n",
       " ('PROGRAMMER--', 1),\n",
       " ('150,004.', 1),\n",
       " ('(BEAT--SINCERELY)', 1),\n",
       " ('112.', 1),\n",
       " ('INTO--', 1),\n",
       " ('113,', 1),\n",
       " ('MARL', 1),\n",
       " ('EDUA.RDO', 1),\n",
       " ('114,', 1),\n",
       " ('IN', 1),\n",
       " ('SAME', 1),\n",
       " ('115.', 1),\n",
       " ('$18,000.', 1),\n",
       " ('MART{', 1),\n",
       " ('13.6.', 1),\n",
       " ('JUMPS--', 1),\n",
       " ('EVERYONE', 1),\n",
       " ('(SHOUTING', 1),\n",
       " ('MARY.', 1),\n",
       " ('ANDREW', 1),\n",
       " ('118.', 1),\n",
       " ('119.', 1),\n",
       " ('120,', 1),\n",
       " ('NARK', 1),\n",
       " ('].21.', 1),\n",
       " ('122.', 1),\n",
       " ('-SEAN', 1),\n",
       " ('123.', 1),\n",
       " ('---BOOSHI', 1),\n",
       " ('124.', 1),\n",
       " ('POP!', 1),\n",
       " ('125.', 1),\n",
       " ('AIDE', 1),\n",
       " ('(SNAPPING)', 1),\n",
       " (\"DIDN'T---\", 1),\n",
       " ('(EASY)', 1),\n",
       " ('126,', 1),\n",
       " ('INT./EXT.', 1),\n",
       " ('127.', 1),\n",
       " ('U.S.?', 1),\n",
       " ('RENWRIGHT', 1),\n",
       " ('KENWRIGIT', 1),\n",
       " ('RACE', 1),\n",
       " ('128.', 1),\n",
       " ('129,', 1),\n",
       " ('EXT_', 1),\n",
       " ('130,', 1),\n",
       " ('(LONG', 1),\n",
       " ('131.', 1),\n",
       " ('GIRT,', 1),\n",
       " ('132.', 1),\n",
       " ('133.', 1),\n",
       " ('G-IRL', 1),\n",
       " ('134', 1),\n",
       " ('160', 1),\n",
       " ('135.', 1),\n",
       " ('ADVERTISERS:', 1),\n",
       " ('BANKER', 1),\n",
       " ('EXT./EST.', 1),\n",
       " ('PETER', 1),\n",
       " ('].36.', 1),\n",
       " ('MAURICE', 1),\n",
       " ('137', 1),\n",
       " ('138,', 1),\n",
       " (\"'JENNY\", 1),\n",
       " (\"(CONT'D)\", 1),\n",
       " ('139.', 1),\n",
       " ('140,', 1),\n",
       " ('DOMINO--', 1),\n",
       " ('].41', 1),\n",
       " ('(BEAT--SMILES)', 1),\n",
       " ('1.42.', 1),\n",
       " ('1,328,334.', 1),\n",
       " ('143.', 1),\n",
       " ('(HELPING)', 1),\n",
       " ('COURT', 1),\n",
       " ('144,', 1),\n",
       " ('145.', 1),\n",
       " ('146.', 1),\n",
       " ('THESE', 1),\n",
       " ('147', 1),\n",
       " ('EDUAK2DO', 1),\n",
       " ('LEANING', 1),\n",
       " ('EL', 1),\n",
       " ('ALONG--', 1),\n",
       " ('148', 1),\n",
       " ('Â€ï¿½GRETCHEN', 1),\n",
       " ('THIS--Â€ï¿½Â€ï¿½', 1),\n",
       " ('151.', 1),\n",
       " ('999,982', 1),\n",
       " ('152,', 1),\n",
       " ('SEAN.', 1),\n",
       " ('MACKEY', 1),\n",
       " ('1,000,002', 1),\n",
       " ('153.', 1),\n",
       " ('UT', 1),\n",
       " ('154,', 1),\n",
       " ('.SEAN', 1),\n",
       " ('155.', 1),\n",
       " ('GIRL,', 1),\n",
       " ('17?', 1),\n",
       " ('(EVENLY)', 1),\n",
       " ('(BLANK)', 1),\n",
       " ('158,', 1),\n",
       " ('(NO', 1),\n",
       " ('159.', 1),\n",
       " ('MAIM', 1),\n",
       " ('160.', 1),\n",
       " ('.MARYLIN', 1),\n",
       " ('161.', 1),\n",
       " ('SNAP', 1),\n",
       " ('ROLL,', 1)]"
      ]
     },
     "execution_count": 32,
     "metadata": {},
     "output_type": "execute_result"
    }
   ],
   "source": [
    "sorted(dict.items(), key=lambda item: item[1], reverse=True)"
   ]
  },
  {
   "cell_type": "code",
   "execution_count": 71,
   "metadata": {},
   "outputs": [],
   "source": [
    "\n",
    "with open(\"./test.txt\", \"r\", encoding=\"utf-8\") as f:\n",
    "    text = f.read()"
   ]
  },
  {
   "cell_type": "code",
   "execution_count": 40,
   "metadata": {},
   "outputs": [
    {
     "ename": "AttributeError",
     "evalue": "'list' object has no attribute 'filter'",
     "output_type": "error",
     "traceback": [
      "\u001b[1;31m---------------------------------------------------------------------------\u001b[0m",
      "\u001b[1;31mAttributeError\u001b[0m                            Traceback (most recent call last)",
      "\u001b[1;32mc:\\Users\\Geoffrey\\Documents\\Projects\\FilmMelody\\test.ipynb Cell 8'\u001b[0m in \u001b[0;36m<cell line: 1>\u001b[1;34m()\u001b[0m\n\u001b[1;32m----> <a href='vscode-notebook-cell:/c%3A/Users/Geoffrey/Documents/Projects/FilmMelody/test.ipynb#ch0000007?line=0'>1</a>\u001b[0m text_split \u001b[39m=\u001b[39m text\u001b[39m.\u001b[39;49msplit(\u001b[39m'\u001b[39;49m\u001b[39m\\n\u001b[39;49;00m\u001b[39m'\u001b[39;49m)\u001b[39m.\u001b[39;49mfilter(\u001b[39mlambda\u001b[39;00m x: x)\n\u001b[0;32m      <a href='vscode-notebook-cell:/c%3A/Users/Geoffrey/Documents/Projects/FilmMelody/test.ipynb#ch0000007?line=1'>2</a>\u001b[0m \u001b[39mlen\u001b[39m(text_split)\n",
      "\u001b[1;31mAttributeError\u001b[0m: 'list' object has no attribute 'filter'"
     ]
    }
   ],
   "source": [
    "text_split = text.split('\\n')\n",
    "len(text_split)"
   ]
  },
  {
   "cell_type": "code",
   "execution_count": null,
   "metadata": {},
   "outputs": [],
   "source": []
  },
  {
   "cell_type": "code",
   "execution_count": 43,
   "metadata": {},
   "outputs": [
    {
     "data": {
      "text/plain": [
       "8218"
      ]
     },
     "execution_count": 43,
     "metadata": {},
     "output_type": "execute_result"
    }
   ],
   "source": [
    "text_split_no_space = list(filter(lambda x: x, text_split))\n",
    "len(text_split_no_space)"
   ]
  },
  {
   "cell_type": "code",
   "execution_count": 47,
   "metadata": {},
   "outputs": [
    {
     "data": {
      "text/plain": [
       "'</b>'"
      ]
     },
     "execution_count": 47,
     "metadata": {},
     "output_type": "execute_result"
    }
   ],
   "source": [
    "text_split_no_space[2]"
   ]
  },
  {
   "cell_type": "code",
   "execution_count": 63,
   "metadata": {},
   "outputs": [
    {
     "data": {
      "text/plain": [
       "'\\n\\n'"
      ]
     },
     "execution_count": 63,
     "metadata": {},
     "output_type": "execute_result"
    }
   ],
   "source": [
    "content_list = re.split(r'<b>\\s*.*\\s*<\\/b>', text)\n",
    "len(content_list)\n",
    "content_list[0][0:10000]"
   ]
  },
  {
   "cell_type": "code",
   "execution_count": 72,
   "metadata": {},
   "outputs": [
    {
     "data": {
      "text/plain": [
       "2573"
      ]
     },
     "execution_count": 72,
     "metadata": {},
     "output_type": "execute_result"
    }
   ],
   "source": [
    "content_list = [s.strip() for s in content_list]\n",
    "len(content_list)\n"
   ]
  },
  {
   "cell_type": "code",
   "execution_count": 73,
   "metadata": {},
   "outputs": [
    {
     "data": {
      "text/plain": [
       "2572"
      ]
     },
     "execution_count": 73,
     "metadata": {},
     "output_type": "execute_result"
    }
   ],
   "source": [
    "title_list = re.findall(r'<b>\\s*(.*)\\s*<\\/b>', text)\n",
    "len(title_list)"
   ]
  },
  {
   "cell_type": "code",
   "execution_count": 76,
   "metadata": {},
   "outputs": [
    {
     "data": {
      "text/plain": [
       "\"Pay the fine. Get your parking validated.\\n          Get out of it. That's what Sy and the\\n          guys'll tell you in the morning.\""
      ]
     },
     "execution_count": 76,
     "metadata": {},
     "output_type": "execute_result"
    }
   ],
   "source": [
    "content_list[-10]"
   ]
  },
  {
   "cell_type": "code",
   "execution_count": null,
   "metadata": {},
   "outputs": [],
   "source": [
    "for i in range(max(title_list, content_list)):\n",
    "    "
   ]
  },
  {
   "cell_type": "code",
   "execution_count": 68,
   "metadata": {},
   "outputs": [],
   "source": [
    "with open(\"./test.txt\", \"r\", encoding=\"utf-8\") as f:\n",
    "    text = f.read()\n",
    "    \n",
    "text = text.replace('<b>', '').replace('</b>', '')\n",
    "\n",
    "with open('./text2.txt', 'w', encoding='utf-8') as f:\n",
    "    f.write(text)"
   ]
  },
  {
   "cell_type": "code",
   "execution_count": 70,
   "metadata": {},
   "outputs": [
    {
     "data": {
      "text/plain": [
       "\"\\n\\n                                THE SOCIAL NETWORK\\n\\n\\n\\n                                    Written by\\n\\n                                   Aaron Sorkin\\n\\n\\n\\n\\n\\n                                                          May 28, 2009\\n                         \\n\\n                         \\n\\n          FROM THE BLACK WE HEAR--\\n\\n                         MARK (V.O.)\\n          Did you know there are more people with\\n          genius IQ's living in China than there\\n          are people of any kind living in the\\n          United States?\\n\\n                         ERICA (V.O. )\\n          That can't be true.\\n\\n                         MARK (V.O.)\\n          it is true.\\n\\n                         ERICA (V.O.)\\n          What would account for that?\\n\\n                         MARK (V.0.)\\n          Well first of all, a lot of people live\\n          in China. But here's my question:\\n\\n                         FADE IN\\n\\n          INT. CAMPUS BAR - NIGHT\\n\\n          MARK ZUCKERBERG is a sweet looking 19 year old whose lack of\\n          any physically intimidating attributes masks a very\\n          complicated and dangerous anger. He has trouble making eye\\n          contact- and sometimes it's hard to tell if he's talking to you\\n          or to himself.\\n\\n          ERICA, also 19, is Mark's date. She has a girl-next-door face\\n          that makes her easy to fall for. At this point in the\\n          conversation she already knows that she'd rather not be there\\n          and her politeness is about to be tested.\\n\\n          The scene is stark and simple.\\n\\n                         MARK\\n          How do you distinguish yourself in a\\n          population of people who all got 1600 on\\n          their SAT's?\\n\\n                         ERICA\\n          I didn't know they take SAT's in China.\\n\\n                         MARK\\n          I wasn't talking about China anymore, I\\n          was talking about here.\\n\\n                         ERICA\\n          You got 1600?\\n\\n                         MARK\\n          You can sing in an a Capella group.\\n\\n                         \\n\\n                         \\n\\n                         \\n\\n                         \\n\\n          2.\\n\\n                         BRICA\\n          Does that mean that you actually got\\n          nothing wrong?\\n\\n                         MARK\\n          Or you row crew or you invent a 25 dollar\\n          PC.\\n\\n                         ERICA\\n          Or you get into a final club.\\n\\n                         MARK\\n          Or you get into a final club, exactly.\\n\\n                         ERICA\\n          I like guys who row crew.\\n\\n                         MARK\\n\\n                         (BEAT)\\n          Well I can't do that. And yes, it means I\\n          got nothing wrong on the test.\\n\\n                         ERICA\\n          Have you ever tried?\\n\\n                         MARK\\n          I'm trying now.\\n\\n                         ERICA\\n          To row crew?\\n\\n                         MARK\\n          To get into a final club. To row crew?\\n          No. Are you, like--whatever--crazy?\\n\\n                         ERICA\\n          Sometimes, Mark-seriously-YOU say two\\n          things at once and I'm not sure which one\\n          we're talking about.\\n\\n                         MARK\\n          But you've seen guys who row crew, right?\\n\\n                         ERICA\\n          No.\\n\\n                         MARK\\n          Okay, well.. they're bigger than me.\\n          They're world class athletes. And a\\n          second ago you said you like guys who row\\n          crew so I assumed you'd met one.\\n\\n                         ERICA\\n          I guess I meant I liked the idea of it.\\n          The way a girl likes cowboys.\\n\\n                         \\n\\n                         \\n\\n                         \\n\\n                         \\n\\n          3.\\n\\n                         MARK\\n          The Phoenix is good.\\n\\n                         ERICA\\n          This is a new topic?\\n\\n                         MARK\\n          It's the same topic.\\n\\n                         ERICA\\n          We're still talking about the finals\\n          clubs?\\n\\n                         MARK\\n          Would you rather talk about something\\n          else?\\n\\n                         ERICA\\n          It's just that since the beginning of\\n          the conversation about finals clubs I\\n          think I may have had a birthday.\\n\\n                         MARK\\n          We can change the subject.\\n\\n          ERICA.\\n          (can't get over it)\\n          There are more people in China with genius\\n          IQ's than the entire population of--\\n\\n                         MARK\\n          It's about exclusivity.\\n\\n                         T'RICA\\n          .....what is?\\n\\n                         MARK\\n          The final clubs. And that's how you\\n          distinguish yourself. The Phoenix is the\\n          most diverse. The Fly Club, Roosevelt\\n          punched the Porc.\\n\\n                         ERICA\\n          Which one?\\n\\n                         MARK\\n          The Porcellian, the Porc, it's the best\\n          of the best.\\n\\n                         ERICA\\n          I actually meant which Roosevelt.\\n\\n                         MARK\\n          Theodore.\\n\\n                         \\n\\n                         \\n\\n                         \\n\\n                         \\n\\n          4.\\n\\n                         ERICA\\n          Okay, well, which is the easiest one to\\n          get into?\\n\\n          MARK takes a cigarette from a pack, lights it, takes a drag\\n          and blows the smoke out before he says...\\n\\n                         MARK\\n          Hm.\\n\\n                         ERICA\\n          What?\\n\\n                         MARK\\n          why would you ask me that?\\n\\n                         ERICA\\n          I was just asking.\\n\\n                         MARK\\n          They're all hard to get into. My friend\\n          Eduardo made $300,000 betting on oil\\n          futures last summer and he won't get in.\\n          Money or the ability to make it doesn't\\n          impress anybody around here. Everybody\\n          can do that.\\n\\n                         ERICA\\n          He made $300,000 in a summer?\\n\\n                         MARK\\n          He likes meteorology.\\n\\n                         ERICA\\n          You said it was oil futures.\\n\\n                         MARK\\n          If you can predict the weather you can\\n          predict the price of heating oil. You\\n          asked me that because you think the final\\n          club that's easiest to get into is the\\n          one where I'll have the best chance,\\n\\n                         ERICA\\n\\n                         (BEAT)\\n          I've lost my place again.\\n\\n                         MARK\\n          You asked me which one was the easiest to\\n          get into because you think that's where I\\n          have the best chance.\\n\\n                         ERICA\\n          The one that's easiest to get into would\\n          be the one where anybody had the best\\n          chance.\\n\\n                         \\n\\n                         \\n\\n                         \\n\\n                         \\n\\n          S.\\n\\n                         MARK\\n          I just think you asked--the placement of\\n          where you asked the question--\\n\\n                         ERICA\\n          I was honestly just asking. Okay? I was\\n          asking just to ask. Mark, I'm not\\n          speaking in code.\\n\\n                         MARK\\n          Erica--\\n\\n                         ERICA\\n          You're obsessed with the finals clubs.\\n          You have finals clubs OCD and you need to\\n          see someone about this who'll prescribe\\n          some sort of medication. You don't care\\n          if side effects may include blindness,\\n          okay, just do it.\\n\\n                         MARK\\n          Final clubs. Not finals clubs and there's\\n          a difference between being obsessed and\\n          being motivated.\\n\\n                         ERICA\\n          Yes there is.\\n\\n                         MARK\\n          Well you do--that was cryptic--so you do\\n          speak in code.\\n\\n                         ERICA\\n          I didn't mean to be cryptic.\\n\\n                         MARK\\n          I'm saving I need to do something\\n          substantial in order to get the attention\\n          of the clubs.\\n\\n                         ERICA\\n          Why?\\n\\n                         MARK\\n          Because they're exclusive.\\n\\n                         (BEAT)\\n          And fun and they lead to a better life.\\n\\n                         ERICA\\n          You think Teddy Roosevelt got elected\\n          president because he was a member of the\\n          Phoenix Club?\\n\\n                         MARK\\n          He was a member of the Porcellian and yes\\n          I do.\\n\\n                         \\n\\n                         \\n\\n                         \\n\\n                         \\n\\n          6.\\n\\n                         ERICA\\n          Maybe he sang in an a Capella group.\\n\\n                         MARK\\n          I want to be straight forward and tell\\n          you that I think you should be a lot more\\n          supportive. If I get in I'll be taking\\n          you to the parties and you'll be meeting\\n          people that you wouldn't normally get to\\n          meet.\\n\\n                         ERICA\\n\\n                         (SMILES)\\n          You would do that for me?\\n\\n                         MARK\\n          You're my girlfriend.\\n\\n                         ERICA\\n          okay, well I want to be straight forward\\n          and tell you that I'm not anymore.\\n\\n                         MARK\\n\\n                         (BEAT)\\n          What do you mean?\\n\\n                         ERICA\\n          I'm not your girlfriend anymore,\\n\\n                         MARK\\n          Is this a joke?\\n\\n                         ERICA\\n          No, I'm sorry, it's not.\\n\\n                         MARK\\n          You're breaking up with me?\\n\\n                         ERICA\\n          You're going to introduce me to people I\\n          wouldn't normally get to meet? What the\\n          fuck is that supposed to m\""
      ]
     },
     "execution_count": 70,
     "metadata": {},
     "output_type": "execute_result"
    }
   ],
   "source": [
    "with open(\"./text2.txt\", \"r\", encoding=\"utf-8\") as f:\n",
    "    text = f.read()\n",
    "\n",
    "text[0:10000]"
   ]
  }
 ],
 "metadata": {
  "kernelspec": {
   "display_name": "Python 3.9.5 64-bit",
   "language": "python",
   "name": "python3"
  },
  "language_info": {
   "codemirror_mode": {
    "name": "ipython",
    "version": 3
   },
   "file_extension": ".py",
   "mimetype": "text/x-python",
   "name": "python",
   "nbconvert_exporter": "python",
   "pygments_lexer": "ipython3",
   "version": "3.9.5"
  },
  "orig_nbformat": 4,
  "vscode": {
   "interpreter": {
    "hash": "f6586bc55285b532d40fc2c90267c7ce0480bd5dad7054473dc6a10b6be8955b"
   }
  }
 },
 "nbformat": 4,
 "nbformat_minor": 2
}
