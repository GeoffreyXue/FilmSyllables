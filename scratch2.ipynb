{
 "cells": [
  {
   "cell_type": "code",
   "execution_count": null,
   "metadata": {},
   "outputs": [],
   "source": [
    "from selenium import webdriver\n",
    "from selenium.webdriver.chrome.service import Service\n",
    "from webdriver_manager.chrome import ChromeDriverManager\n",
    "from selenium.webdriver.common.by import By\n",
    "from time import sleep\n",
    "import re\n",
    "import pandas as pd"
   ]
  },
  {
   "cell_type": "code",
   "execution_count": null,
   "metadata": {},
   "outputs": [],
   "source": [
    "with open(\"./test.txt\", \"r\", encoding=\"utf-8\") as f:\n",
    "    text = f.read()"
   ]
  },
  {
   "cell_type": "code",
   "execution_count": null,
   "metadata": {},
   "outputs": [],
   "source": [
    "content_list = re.split(r'<b>\\s*.*\\s*<\\/b>', text)\n",
    "content_list = [s.strip() for s in content_list]\n",
    "len(content_list)"
   ]
  },
  {
   "cell_type": "code",
   "execution_count": null,
   "metadata": {},
   "outputs": [],
   "source": [
    "title_list = re.findall(r'<b>\\s*(.*)\\s*<\\/b>', text)\n",
    "len(title_list)"
   ]
  },
  {
   "cell_type": "code",
   "execution_count": null,
   "metadata": {},
   "outputs": [],
   "source": [
    "# TEMP: Figure out how to better align these\n",
    "content_list = content_list[1:]"
   ]
  },
  {
   "cell_type": "code",
   "execution_count": null,
   "metadata": {},
   "outputs": [],
   "source": [
    "# max_length = min(len(content_list), len(title_list))\n",
    "# content_list = content_list[0:max_length]\n",
    "# title_list = title_list[0:max_length]\n",
    "# len(content_list), len(title_list)"
   ]
  },
  {
   "cell_type": "code",
   "execution_count": null,
   "metadata": {},
   "outputs": [],
   "source": [
    "df = pd.DataFrame({'person': title_list, 'lines': content_list})\n",
    "df"
   ]
  },
  {
   "cell_type": "code",
   "execution_count": null,
   "metadata": {},
   "outputs": [],
   "source": [
    "# cleaning up person\n",
    "# take first word of each title\n",
    "df['person'] = df['person'].apply(lambda p: p.strip().split(' ')[0])\n",
    "# if just number, replace with --TRANSITION--\n",
    "df['person'] = df['person'].replace(r'\\d+\\.', '--TRANSITION--', regex=True)\n",
    "# remove common cinematography titles, like CUT, INT, etc.\n",
    "df = df[~df['person'].isin(['INT.', 'CUT', '(BEAT)'])]\n",
    "# skip title\n",
    "df = df.iloc[2:]\n",
    "# if not in top 20 list of chars, then don't include (used to remove redundant stuff)\n",
    "top_20 = df['person'].value_counts()[:20]\n",
    "df = df[df['person'].isin(top_20.keys())]\n",
    "\n",
    "df"
   ]
  },
  {
   "cell_type": "code",
   "execution_count": null,
   "metadata": {},
   "outputs": [],
   "source": [
    "# cleaning up lines\n",
    "# converting lines into single string for parsing\n",
    "df['lines'] = df['lines'].apply(lambda l: ' '.join([line.strip() for line in l.split('\\n')]))\n",
    "df"
   ]
  },
  {
   "cell_type": "code",
   "execution_count": null,
   "metadata": {},
   "outputs": [],
   "source": [
    "import pyphen\n",
    "\n",
    "pyphen.language_fallback('nl_NL_variant1')\n",
    "dic = pyphen.Pyphen(lang='nl_NL')"
   ]
  },
  {
   "cell_type": "code",
   "execution_count": null,
   "metadata": {},
   "outputs": [],
   "source": [
    "# Performing hyphenation\n",
    "df['syllables'] = df['lines'].apply(lambda l: dic.inserted(l).count('-'));\n",
    "df"
   ]
  },
  {
   "cell_type": "code",
   "execution_count": null,
   "metadata": {},
   "outputs": [],
   "source": [
    "df['person'].map(color_map)"
   ]
  },
  {
   "cell_type": "code",
   "execution_count": null,
   "metadata": {},
   "outputs": [],
   "source": [
    "import numpy as np\n",
    "import matplotlib.pyplot as plt\n",
    "import seaborn as sns\n"
   ]
  },
  {
   "cell_type": "code",
   "execution_count": null,
   "metadata": {},
   "outputs": [],
   "source": [
    "sns.palplot(sns.color_palette(\"muted\"))\n",
    "color_labels = df['person'].unique()\n",
    "rgb_values = sns.color_palette(\"Set2\", 20)\n",
    "color_map = dict(zip(color_labels, rgb_values))\n",
    "color_labels\n"
   ]
  },
  {
   "cell_type": "code",
   "execution_count": null,
   "metadata": {},
   "outputs": [],
   "source": [
    "plt.figure(figsize=(32,10)) # Make it 14x7 inch\n",
    "plt.style.use('seaborn-whitegrid') # nice and clean grid\n",
    "\n",
    "plt.bar(x=range(0, len(df['syllables'])), height=df['syllables'], color=df['person'].map(color_map)) \n",
    "\n",
    "plt.legend([plt.Rectangle((0, 0), 1, 1, color=color_map[label]) for label in color_labels], color_labels)\n",
    "\n",
    "plt.title('The Social Network') \n",
    "plt.xlabel('Syallables') \n",
    "plt.ylabel('Line Number') \n",
    "plt.show()"
   ]
  },
  {
   "cell_type": "code",
   "execution_count": null,
   "metadata": {},
   "outputs": [],
   "source": [
    "from TranscriptPlotter import TranscriptPlotter\n",
    "%load_ext autoreload\n",
    "%autoreload 2\n",
    "\n",
    "tp = TranscriptPlotter('./test.txt')\n",
    "tp.parse()\n",
    "tp.plot()"
   ]
  },
  {
   "cell_type": "code",
   "execution_count": null,
   "metadata": {},
   "outputs": [],
   "source": [
    "import re\n",
    "re.match(\"test\", \"test\").end()"
   ]
  },
  {
   "cell_type": "code",
   "execution_count": null,
   "metadata": {},
   "outputs": [],
   "source": [
    "with open(\"text2.txt\", \"r\", encoding=\"utf-8\") as f:\n",
    "    text = f.read()\n",
    "\n",
    "content_list = re.split(r'<b>\\s*.*\\s*<\\/b>', text)\n",
    "content_list = [s.strip() for s in content_list]\n",
    "\n",
    "title_list = re.findall(r'<b>\\s*(.*)\\s*<\\/b>', text)\n",
    "\n",
    "# TEMP: Figure out how to better align these\n",
    "content_list = content_list[1:]\n",
    "[s.strip() for s in content_list]"
   ]
  },
  {
   "cell_type": "code",
   "execution_count": null,
   "metadata": {},
   "outputs": [],
   "source": [
    "content_list"
   ]
  }
 ],
 "metadata": {
  "kernelspec": {
   "display_name": "Python 3.9.5 64-bit",
   "language": "python",
   "name": "python3"
  },
  "language_info": {
   "codemirror_mode": {
    "name": "ipython",
    "version": 3
   },
   "file_extension": ".py",
   "mimetype": "text/x-python",
   "name": "python",
   "nbconvert_exporter": "python",
   "pygments_lexer": "ipython3",
   "version": "3.9.5"
  },
  "orig_nbformat": 4,
  "vscode": {
   "interpreter": {
    "hash": "f6586bc55285b532d40fc2c90267c7ce0480bd5dad7054473dc6a10b6be8955b"
   }
  }
 },
 "nbformat": 4,
 "nbformat_minor": 2
}
